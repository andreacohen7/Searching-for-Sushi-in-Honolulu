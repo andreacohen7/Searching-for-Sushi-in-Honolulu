{
 "cells": [
  {
   "cell_type": "markdown",
   "id": "72f7e388",
   "metadata": {},
   "source": [
    "# Searching for Sushi in Honolulu\n",
    "- Andrea Cohen\n",
    "- 03.01.2023"
   ]
  },
  {
   "cell_type": "markdown",
   "id": "eed9a927",
   "metadata": {},
   "source": [
    "## Imports"
   ]
  },
  {
   "cell_type": "code",
   "execution_count": 1,
   "id": "fd5d24d0",
   "metadata": {},
   "outputs": [],
   "source": [
    "import pandas as pd\n",
    "import os, json, math, time\n",
    "from yelpapi import YelpAPI\n",
    "from tqdm.notebook import tqdm_notebook"
   ]
  },
  {
   "cell_type": "markdown",
   "id": "32529229",
   "metadata": {},
   "source": [
    "## Credentials and Accessing the API"
   ]
  },
  {
   "cell_type": "code",
   "execution_count": 2,
   "id": "006c6034",
   "metadata": {},
   "outputs": [],
   "source": [
    "# Load API Credentials\n",
    "with open('/Users/andreacohen/.secret/yelp_api.json') as f:\n",
    "    login = json.load(f)\n",
    "# Instantiate YelpAPI Variable\n",
    "yelp_api = YelpAPI(login['api-key'], timeout_s=5.0)"
   ]
  },
  {
   "cell_type": "markdown",
   "id": "aa1a7e4e",
   "metadata": {},
   "source": [
    "## Define Search"
   ]
  },
  {
   "cell_type": "code",
   "execution_count": 3,
   "id": "9f031f60",
   "metadata": {},
   "outputs": [],
   "source": [
    "# set API call parameters \n",
    "LOCATION = 'Honolulu, HI'\n",
    "TERM = 'Sushi'"
   ]
  },
  {
   "cell_type": "markdown",
   "id": "bd84fa06",
   "metadata": {},
   "source": [
    "## Create a results-in-progress JSON file, but only if it doesn't exist"
   ]
  },
  {
   "cell_type": "code",
   "execution_count": 4,
   "id": "f33ca543",
   "metadata": {},
   "outputs": [
    {
     "data": {
      "text/plain": [
       "'Data/results_in_progress_Honolulu_sushi.json'"
      ]
     },
     "execution_count": 4,
     "metadata": {},
     "output_type": "execute_result"
    }
   ],
   "source": [
    "# Specifying JSON_FILE filename (can include a folder)\n",
    "# include the search terms in the filename\n",
    "JSON_FILE = \"Data/results_in_progress_Honolulu_sushi.json\"\n",
    "JSON_FILE"
   ]
  },
  {
   "cell_type": "code",
   "execution_count": 5,
   "id": "97c700a6",
   "metadata": {},
   "outputs": [
    {
     "name": "stdout",
     "output_type": "stream",
     "text": [
      "[i] Data/results_in_progress_Honolulu_sushi.json not found. Saving empty list to file.\n"
     ]
    }
   ],
   "source": [
    "## Check if JSON_FILE exists\n",
    "file_exists = os.path.isfile(JSON_FILE)\n",
    "## If it does not exist:\n",
    "if file_exists == False:\n",
    "    ## CREATE ANY NEEDED FOLDERS\n",
    "    # Get the Folder Name only\n",
    "    folder = os.path.dirname(JSON_FILE)\n",
    "    ## If JSON_FILE included a folder:\n",
    "    if len(folder)>0:\n",
    "        # create the folder\n",
    "        os.makedirs(folder,exist_ok=True)\n",
    "    ## INFORM USER AND SAVE EMPTY LIST\n",
    "    print(f'[i] {JSON_FILE} not found. Saving empty list to file.')\n",
    "    # save an empty list\n",
    "    with open(JSON_FILE,'w') as f:\n",
    "        json.dump([],f)\n",
    "# If it exists, inform user\n",
    "else:\n",
    "    print(f\"[i] {JSON_FILE} already exists.\")"
   ]
  },
  {
   "cell_type": "markdown",
   "id": "5ae14651",
   "metadata": {},
   "source": [
    "## Determine how many results are already in the file"
   ]
  },
  {
   "cell_type": "code",
   "execution_count": 6,
   "id": "872a3f19",
   "metadata": {},
   "outputs": [
    {
     "name": "stdout",
     "output_type": "stream",
     "text": [
      "- 0 previous results found.\n"
     ]
    }
   ],
   "source": [
    "## Load previous results and use len of results for offset\n",
    "with open(JSON_FILE,'r') as f:\n",
    "    previous_results = json.load(f)\n",
    "## set offset based on previous results\n",
    "n_results = len(previous_results)\n",
    "print(f'- {n_results} previous results found.')"
   ]
  },
  {
   "cell_type": "markdown",
   "id": "32879837",
   "metadata": {},
   "source": [
    "## Figure out how many pages of results we will need"
   ]
  },
  {
   "cell_type": "code",
   "execution_count": 7,
   "id": "3d00d7f4",
   "metadata": {},
   "outputs": [
    {
     "data": {
      "text/plain": [
       "dict_keys(['businesses', 'total', 'region'])"
      ]
     },
     "execution_count": 7,
     "metadata": {},
     "output_type": "execute_result"
    }
   ],
   "source": [
    "# use yelp_api variable's search_query method to perform our API call\n",
    "search_results = yelp_api.search_query(location=LOCATION,\n",
    "                               term=TERM,\n",
    "                               offset=n_results)\n",
    "search_results.keys()"
   ]
  },
  {
   "cell_type": "code",
   "execution_count": 8,
   "id": "b68c3e14",
   "metadata": {},
   "outputs": [
    {
     "data": {
      "text/plain": [
       "817"
      ]
     },
     "execution_count": 8,
     "metadata": {},
     "output_type": "execute_result"
    }
   ],
   "source": [
    "## How many results total?\n",
    "total_results = search_results['total']\n",
    "total_results"
   ]
  },
  {
   "cell_type": "code",
   "execution_count": 9,
   "id": "7d85c684",
   "metadata": {},
   "outputs": [
    {
     "data": {
      "text/plain": [
       "20"
      ]
     },
     "execution_count": 9,
     "metadata": {},
     "output_type": "execute_result"
    }
   ],
   "source": [
    "## How many did we get the details for?\n",
    "results_per_page = len(search_results['businesses'])\n",
    "results_per_page"
   ]
  },
  {
   "cell_type": "code",
   "execution_count": 10,
   "id": "838ccbb3",
   "metadata": {},
   "outputs": [
    {
     "data": {
      "text/plain": [
       "41"
      ]
     },
     "execution_count": 10,
     "metadata": {},
     "output_type": "execute_result"
    }
   ],
   "source": [
    "# Use math.ceil to round up for the total number of pages of results.\n",
    "n_pages = math.ceil((search_results['total']-n_results)/results_per_page)\n",
    "n_pages"
   ]
  },
  {
   "cell_type": "markdown",
   "id": "9274a5ba",
   "metadata": {},
   "source": [
    "## Add this page of results to .json file"
   ]
  },
  {
   "cell_type": "code",
   "execution_count": 11,
   "id": "d29d74c6",
   "metadata": {},
   "outputs": [],
   "source": [
    "# join new results with old list with extend and save to file\n",
    "previous_results.extend(search_results['businesses'])\n",
    "with open(JSON_FILE,'w') as f:\n",
    "    json.dump(previous_results,f)"
   ]
  },
  {
   "cell_type": "markdown",
   "id": "480a61e6",
   "metadata": {},
   "source": [
    "## For Loop to call each page, including a progress bar"
   ]
  },
  {
   "cell_type": "code",
   "execution_count": 12,
   "id": "85b18911",
   "metadata": {},
   "outputs": [
    {
     "data": {
      "application/vnd.jupyter.widget-view+json": {
       "model_id": "d923286d54d24976af0b2db98c0b8828",
       "version_major": 2,
       "version_minor": 0
      },
      "text/plain": [
       "  0%|          | 0/41 [00:00<?, ?it/s]"
      ]
     },
     "metadata": {},
     "output_type": "display_data"
    }
   ],
   "source": [
    "for i in tqdm_notebook(range(1,n_pages+1)):\n",
    "    ## read in results in progress file and check the length\n",
    "    with open(JSON_FILE, 'r') as f:\n",
    "        previous_results = json.load(f)\n",
    "    ## save number of results to use as offset\n",
    "    n_results = len(previous_results)\n",
    "    ## use n_results as the OFFSET\n",
    "    search_results = yelp_api.search_query(location=LOCATION,\n",
    "                                   term=TERM,\n",
    "                                   offset=n_results)\n",
    "    ## append new results and save to file\n",
    "    previous_results.extend(search_results['businesses'])\n",
    "    with open(JSON_FILE,'w') as f:\n",
    "        json.dump(previous_results,f)\n",
    "    # add a 200ms pause\n",
    "    time.sleep(.2)"
   ]
  },
  {
   "cell_type": "markdown",
   "id": "0e9b8cd6",
   "metadata": {},
   "source": [
    "## After the loop has finished, convert .json to dataframe"
   ]
  },
  {
   "cell_type": "code",
   "execution_count": 13,
   "id": "3992db21",
   "metadata": {},
   "outputs": [
    {
     "data": {
      "text/html": [
       "<div>\n",
       "<style scoped>\n",
       "    .dataframe tbody tr th:only-of-type {\n",
       "        vertical-align: middle;\n",
       "    }\n",
       "\n",
       "    .dataframe tbody tr th {\n",
       "        vertical-align: top;\n",
       "    }\n",
       "\n",
       "    .dataframe thead th {\n",
       "        text-align: right;\n",
       "    }\n",
       "</style>\n",
       "<table border=\"1\" class=\"dataframe\">\n",
       "  <thead>\n",
       "    <tr style=\"text-align: right;\">\n",
       "      <th></th>\n",
       "      <th>id</th>\n",
       "      <th>alias</th>\n",
       "      <th>name</th>\n",
       "      <th>image_url</th>\n",
       "      <th>is_closed</th>\n",
       "      <th>url</th>\n",
       "      <th>review_count</th>\n",
       "      <th>categories</th>\n",
       "      <th>rating</th>\n",
       "      <th>coordinates</th>\n",
       "      <th>transactions</th>\n",
       "      <th>price</th>\n",
       "      <th>location</th>\n",
       "      <th>phone</th>\n",
       "      <th>display_phone</th>\n",
       "      <th>distance</th>\n",
       "    </tr>\n",
       "  </thead>\n",
       "  <tbody>\n",
       "    <tr>\n",
       "      <th>0</th>\n",
       "      <td>iaHVxo0VI0ekdbehlEgTvg</td>\n",
       "      <td>doraku-sushi-waikiki-honolulu-2</td>\n",
       "      <td>Doraku Sushi Waikiki</td>\n",
       "      <td>https://s3-media2.fl.yelpcdn.com/bphoto/bR4N0G...</td>\n",
       "      <td>False</td>\n",
       "      <td>https://www.yelp.com/biz/doraku-sushi-waikiki-...</td>\n",
       "      <td>3098</td>\n",
       "      <td>[{'alias': 'sushi', 'title': 'Sushi Bars'}, {'...</td>\n",
       "      <td>4.0</td>\n",
       "      <td>{'latitude': 21.278638, 'longitude': -157.829006}</td>\n",
       "      <td>[delivery, pickup]</td>\n",
       "      <td>$$</td>\n",
       "      <td>{'address1': '2233 Kalakaua Ave', 'address2': ...</td>\n",
       "      <td>+18089223323</td>\n",
       "      <td>(808) 922-3323</td>\n",
       "      <td>4117.076621</td>\n",
       "    </tr>\n",
       "    <tr>\n",
       "      <th>1</th>\n",
       "      <td>qp9QUYs-8Ice2Xz5O6EBCg</td>\n",
       "      <td>ginza-sushi-honolulu-2</td>\n",
       "      <td>Ginza Sushi</td>\n",
       "      <td>https://s3-media1.fl.yelpcdn.com/bphoto/gO7kOp...</td>\n",
       "      <td>False</td>\n",
       "      <td>https://www.yelp.com/biz/ginza-sushi-honolulu-...</td>\n",
       "      <td>648</td>\n",
       "      <td>[{'alias': 'sushi', 'title': 'Sushi Bars'}, {'...</td>\n",
       "      <td>4.5</td>\n",
       "      <td>{'latitude': 21.292727, 'longitude': -157.852452}</td>\n",
       "      <td>[pickup]</td>\n",
       "      <td>$$</td>\n",
       "      <td>{'address1': '1200 Ala Moana Blvd', 'address2'...</td>\n",
       "      <td>+18085939797</td>\n",
       "      <td>(808) 593-9797</td>\n",
       "      <td>2293.353144</td>\n",
       "    </tr>\n",
       "    <tr>\n",
       "      <th>2</th>\n",
       "      <td>763KaVsX7VjQLVCruvb9AA</td>\n",
       "      <td>izakaya-torae-torae-honolulu</td>\n",
       "      <td>Izakaya Torae Torae</td>\n",
       "      <td>https://s3-media4.fl.yelpcdn.com/bphoto/-x-5Te...</td>\n",
       "      <td>False</td>\n",
       "      <td>https://www.yelp.com/biz/izakaya-torae-torae-h...</td>\n",
       "      <td>975</td>\n",
       "      <td>[{'alias': 'sushi', 'title': 'Sushi Bars'}, {'...</td>\n",
       "      <td>4.5</td>\n",
       "      <td>{'latitude': 21.29593, 'longitude': -157.82958}</td>\n",
       "      <td>[delivery]</td>\n",
       "      <td>$$</td>\n",
       "      <td>{'address1': '1111 McCully St', 'address2': ''...</td>\n",
       "      <td>+18089495959</td>\n",
       "      <td>(808) 949-5959</td>\n",
       "      <td>2450.845111</td>\n",
       "    </tr>\n",
       "    <tr>\n",
       "      <th>3</th>\n",
       "      <td>MocT7ajwthZ7QAdz17xMPg</td>\n",
       "      <td>sushi-spot-aiea</td>\n",
       "      <td>Sushi Spot</td>\n",
       "      <td>https://s3-media3.fl.yelpcdn.com/bphoto/YZCrtD...</td>\n",
       "      <td>False</td>\n",
       "      <td>https://www.yelp.com/biz/sushi-spot-aiea?adjus...</td>\n",
       "      <td>982</td>\n",
       "      <td>[{'alias': 'japanese', 'title': 'Japanese'}, {...</td>\n",
       "      <td>4.5</td>\n",
       "      <td>{'latitude': 21.37878, 'longitude': -157.93136}</td>\n",
       "      <td>[delivery]</td>\n",
       "      <td>$$</td>\n",
       "      <td>{'address1': '99-209 Moanalua Rd', 'address2':...</td>\n",
       "      <td>+18084852255</td>\n",
       "      <td>(808) 485-2255</td>\n",
       "      <td>11549.289271</td>\n",
       "    </tr>\n",
       "    <tr>\n",
       "      <th>4</th>\n",
       "      <td>ufkOrZYLnXD-O0c0H7bR5w</td>\n",
       "      <td>maguro-brothers-hawaii-waikiki-honolulu-2</td>\n",
       "      <td>Maguro Brothers Hawaii - Waikiki</td>\n",
       "      <td>https://s3-media1.fl.yelpcdn.com/bphoto/hMxh26...</td>\n",
       "      <td>False</td>\n",
       "      <td>https://www.yelp.com/biz/maguro-brothers-hawai...</td>\n",
       "      <td>758</td>\n",
       "      <td>[{'alias': 'sushi', 'title': 'Sushi Bars'}, {'...</td>\n",
       "      <td>4.5</td>\n",
       "      <td>{'latitude': 21.2795164622592, 'longitude': -1...</td>\n",
       "      <td>[delivery]</td>\n",
       "      <td>$$</td>\n",
       "      <td>{'address1': '415 Nahua St', 'address2': '', '...</td>\n",
       "      <td>+18082303470</td>\n",
       "      <td>(808) 230-3470</td>\n",
       "      <td>4216.566861</td>\n",
       "    </tr>\n",
       "  </tbody>\n",
       "</table>\n",
       "</div>"
      ],
      "text/plain": [
       "                       id                                      alias  \\\n",
       "0  iaHVxo0VI0ekdbehlEgTvg            doraku-sushi-waikiki-honolulu-2   \n",
       "1  qp9QUYs-8Ice2Xz5O6EBCg                     ginza-sushi-honolulu-2   \n",
       "2  763KaVsX7VjQLVCruvb9AA               izakaya-torae-torae-honolulu   \n",
       "3  MocT7ajwthZ7QAdz17xMPg                            sushi-spot-aiea   \n",
       "4  ufkOrZYLnXD-O0c0H7bR5w  maguro-brothers-hawaii-waikiki-honolulu-2   \n",
       "\n",
       "                               name  \\\n",
       "0              Doraku Sushi Waikiki   \n",
       "1                       Ginza Sushi   \n",
       "2               Izakaya Torae Torae   \n",
       "3                        Sushi Spot   \n",
       "4  Maguro Brothers Hawaii - Waikiki   \n",
       "\n",
       "                                           image_url  is_closed  \\\n",
       "0  https://s3-media2.fl.yelpcdn.com/bphoto/bR4N0G...      False   \n",
       "1  https://s3-media1.fl.yelpcdn.com/bphoto/gO7kOp...      False   \n",
       "2  https://s3-media4.fl.yelpcdn.com/bphoto/-x-5Te...      False   \n",
       "3  https://s3-media3.fl.yelpcdn.com/bphoto/YZCrtD...      False   \n",
       "4  https://s3-media1.fl.yelpcdn.com/bphoto/hMxh26...      False   \n",
       "\n",
       "                                                 url  review_count  \\\n",
       "0  https://www.yelp.com/biz/doraku-sushi-waikiki-...          3098   \n",
       "1  https://www.yelp.com/biz/ginza-sushi-honolulu-...           648   \n",
       "2  https://www.yelp.com/biz/izakaya-torae-torae-h...           975   \n",
       "3  https://www.yelp.com/biz/sushi-spot-aiea?adjus...           982   \n",
       "4  https://www.yelp.com/biz/maguro-brothers-hawai...           758   \n",
       "\n",
       "                                          categories  rating  \\\n",
       "0  [{'alias': 'sushi', 'title': 'Sushi Bars'}, {'...     4.0   \n",
       "1  [{'alias': 'sushi', 'title': 'Sushi Bars'}, {'...     4.5   \n",
       "2  [{'alias': 'sushi', 'title': 'Sushi Bars'}, {'...     4.5   \n",
       "3  [{'alias': 'japanese', 'title': 'Japanese'}, {...     4.5   \n",
       "4  [{'alias': 'sushi', 'title': 'Sushi Bars'}, {'...     4.5   \n",
       "\n",
       "                                         coordinates        transactions  \\\n",
       "0  {'latitude': 21.278638, 'longitude': -157.829006}  [delivery, pickup]   \n",
       "1  {'latitude': 21.292727, 'longitude': -157.852452}            [pickup]   \n",
       "2    {'latitude': 21.29593, 'longitude': -157.82958}          [delivery]   \n",
       "3    {'latitude': 21.37878, 'longitude': -157.93136}          [delivery]   \n",
       "4  {'latitude': 21.2795164622592, 'longitude': -1...          [delivery]   \n",
       "\n",
       "  price                                           location         phone  \\\n",
       "0    $$  {'address1': '2233 Kalakaua Ave', 'address2': ...  +18089223323   \n",
       "1    $$  {'address1': '1200 Ala Moana Blvd', 'address2'...  +18085939797   \n",
       "2    $$  {'address1': '1111 McCully St', 'address2': ''...  +18089495959   \n",
       "3    $$  {'address1': '99-209 Moanalua Rd', 'address2':...  +18084852255   \n",
       "4    $$  {'address1': '415 Nahua St', 'address2': '', '...  +18082303470   \n",
       "\n",
       "    display_phone      distance  \n",
       "0  (808) 922-3323   4117.076621  \n",
       "1  (808) 593-9797   2293.353144  \n",
       "2  (808) 949-5959   2450.845111  \n",
       "3  (808) 485-2255  11549.289271  \n",
       "4  (808) 230-3470   4216.566861  "
      ]
     },
     "metadata": {},
     "output_type": "display_data"
    },
    {
     "data": {
      "text/html": [
       "<div>\n",
       "<style scoped>\n",
       "    .dataframe tbody tr th:only-of-type {\n",
       "        vertical-align: middle;\n",
       "    }\n",
       "\n",
       "    .dataframe tbody tr th {\n",
       "        vertical-align: top;\n",
       "    }\n",
       "\n",
       "    .dataframe thead th {\n",
       "        text-align: right;\n",
       "    }\n",
       "</style>\n",
       "<table border=\"1\" class=\"dataframe\">\n",
       "  <thead>\n",
       "    <tr style=\"text-align: right;\">\n",
       "      <th></th>\n",
       "      <th>id</th>\n",
       "      <th>alias</th>\n",
       "      <th>name</th>\n",
       "      <th>image_url</th>\n",
       "      <th>is_closed</th>\n",
       "      <th>url</th>\n",
       "      <th>review_count</th>\n",
       "      <th>categories</th>\n",
       "      <th>rating</th>\n",
       "      <th>coordinates</th>\n",
       "      <th>transactions</th>\n",
       "      <th>price</th>\n",
       "      <th>location</th>\n",
       "      <th>phone</th>\n",
       "      <th>display_phone</th>\n",
       "      <th>distance</th>\n",
       "    </tr>\n",
       "  </thead>\n",
       "  <tbody>\n",
       "    <tr>\n",
       "      <th>812</th>\n",
       "      <td>iIG2RT9RAPm6hL6DPkOfAg</td>\n",
       "      <td>foodland-waipahu</td>\n",
       "      <td>Foodland</td>\n",
       "      <td>https://s3-media4.fl.yelpcdn.com/bphoto/yaA2nf...</td>\n",
       "      <td>False</td>\n",
       "      <td>https://www.yelp.com/biz/foodland-waipahu?adju...</td>\n",
       "      <td>130</td>\n",
       "      <td>[{'alias': 'grocery', 'title': 'Grocery'}, {'a...</td>\n",
       "      <td>3.5</td>\n",
       "      <td>{'latitude': 21.412164, 'longitude': -157.998401}</td>\n",
       "      <td>[delivery]</td>\n",
       "      <td>$$</td>\n",
       "      <td>{'address1': '94-1040 Waipio Uka St', 'address...</td>\n",
       "      <td>+18086715322</td>\n",
       "      <td>(808) 671-5322</td>\n",
       "      <td>19344.664657</td>\n",
       "    </tr>\n",
       "    <tr>\n",
       "      <th>813</th>\n",
       "      <td>3ln_KrusQTN-MClitCwEQQ</td>\n",
       "      <td>pearls-korean-bbq-aiea</td>\n",
       "      <td>Pearl's Korean BBQ</td>\n",
       "      <td>https://s3-media2.fl.yelpcdn.com/bphoto/ervYPg...</td>\n",
       "      <td>False</td>\n",
       "      <td>https://www.yelp.com/biz/pearls-korean-bbq-aie...</td>\n",
       "      <td>86</td>\n",
       "      <td>[{'alias': 'korean', 'title': 'Korean'}, {'ali...</td>\n",
       "      <td>2.0</td>\n",
       "      <td>{'latitude': 21.385216977240265, 'longitude': ...</td>\n",
       "      <td>[delivery, pickup]</td>\n",
       "      <td>$$</td>\n",
       "      <td>{'address1': '98-1005 Moanalua Rd', 'address2'...</td>\n",
       "      <td>+18084842988</td>\n",
       "      <td>(808) 484-2988</td>\n",
       "      <td>12825.108034</td>\n",
       "    </tr>\n",
       "    <tr>\n",
       "      <th>814</th>\n",
       "      <td>LUombmn-HkWK4jM5EOX-iQ</td>\n",
       "      <td>panda-express-waipahu-3</td>\n",
       "      <td>Panda Express</td>\n",
       "      <td>https://s3-media3.fl.yelpcdn.com/bphoto/rcZ7AM...</td>\n",
       "      <td>False</td>\n",
       "      <td>https://www.yelp.com/biz/panda-express-waipahu...</td>\n",
       "      <td>72</td>\n",
       "      <td>[{'alias': 'chinese', 'title': 'Chinese'}, {'a...</td>\n",
       "      <td>3.5</td>\n",
       "      <td>{'latitude': 21.4005263170856, 'longitude': -1...</td>\n",
       "      <td>[delivery, pickup]</td>\n",
       "      <td>$</td>\n",
       "      <td>{'address1': '94-799 Lumiaina Street', 'addres...</td>\n",
       "      <td>+18086768899</td>\n",
       "      <td>(808) 676-8899</td>\n",
       "      <td>19559.059281</td>\n",
       "    </tr>\n",
       "    <tr>\n",
       "      <th>815</th>\n",
       "      <td>VxLMdMiVDfN5dYLtJiKyPg</td>\n",
       "      <td>five-guys-mililani-3</td>\n",
       "      <td>Five Guys</td>\n",
       "      <td>https://s3-media4.fl.yelpcdn.com/bphoto/uK1izL...</td>\n",
       "      <td>False</td>\n",
       "      <td>https://www.yelp.com/biz/five-guys-mililani-3?...</td>\n",
       "      <td>464</td>\n",
       "      <td>[{'alias': 'burgers', 'title': 'Burgers'}, {'a...</td>\n",
       "      <td>3.0</td>\n",
       "      <td>{'latitude': 21.4526833, 'longitude': -158.006...</td>\n",
       "      <td>[delivery]</td>\n",
       "      <td>$$</td>\n",
       "      <td>{'address1': '95-1249 Meheula Pkwy', 'address2...</td>\n",
       "      <td>+18083123407</td>\n",
       "      <td>(808) 312-3407</td>\n",
       "      <td>22840.349833</td>\n",
       "    </tr>\n",
       "    <tr>\n",
       "      <th>816</th>\n",
       "      <td>tc_hpd_zOszjGd7csRZXeA</td>\n",
       "      <td>starbucks-waipahu-3</td>\n",
       "      <td>Starbucks</td>\n",
       "      <td>https://s3-media3.fl.yelpcdn.com/bphoto/06RbiH...</td>\n",
       "      <td>False</td>\n",
       "      <td>https://www.yelp.com/biz/starbucks-waipahu-3?a...</td>\n",
       "      <td>235</td>\n",
       "      <td>[{'alias': 'coffee', 'title': 'Coffee &amp; Tea'}]</td>\n",
       "      <td>3.5</td>\n",
       "      <td>{'latitude': 21.42698103, 'longitude': -158.00...</td>\n",
       "      <td>[delivery]</td>\n",
       "      <td>$$</td>\n",
       "      <td>{'address1': '94-1221 Ka Uka Blvd', 'address2'...</td>\n",
       "      <td>+18086809213</td>\n",
       "      <td>(808) 680-9213</td>\n",
       "      <td>20598.005468</td>\n",
       "    </tr>\n",
       "  </tbody>\n",
       "</table>\n",
       "</div>"
      ],
      "text/plain": [
       "                         id                    alias                name  \\\n",
       "812  iIG2RT9RAPm6hL6DPkOfAg         foodland-waipahu            Foodland   \n",
       "813  3ln_KrusQTN-MClitCwEQQ   pearls-korean-bbq-aiea  Pearl's Korean BBQ   \n",
       "814  LUombmn-HkWK4jM5EOX-iQ  panda-express-waipahu-3       Panda Express   \n",
       "815  VxLMdMiVDfN5dYLtJiKyPg     five-guys-mililani-3           Five Guys   \n",
       "816  tc_hpd_zOszjGd7csRZXeA      starbucks-waipahu-3           Starbucks   \n",
       "\n",
       "                                             image_url  is_closed  \\\n",
       "812  https://s3-media4.fl.yelpcdn.com/bphoto/yaA2nf...      False   \n",
       "813  https://s3-media2.fl.yelpcdn.com/bphoto/ervYPg...      False   \n",
       "814  https://s3-media3.fl.yelpcdn.com/bphoto/rcZ7AM...      False   \n",
       "815  https://s3-media4.fl.yelpcdn.com/bphoto/uK1izL...      False   \n",
       "816  https://s3-media3.fl.yelpcdn.com/bphoto/06RbiH...      False   \n",
       "\n",
       "                                                   url  review_count  \\\n",
       "812  https://www.yelp.com/biz/foodland-waipahu?adju...           130   \n",
       "813  https://www.yelp.com/biz/pearls-korean-bbq-aie...            86   \n",
       "814  https://www.yelp.com/biz/panda-express-waipahu...            72   \n",
       "815  https://www.yelp.com/biz/five-guys-mililani-3?...           464   \n",
       "816  https://www.yelp.com/biz/starbucks-waipahu-3?a...           235   \n",
       "\n",
       "                                            categories  rating  \\\n",
       "812  [{'alias': 'grocery', 'title': 'Grocery'}, {'a...     3.5   \n",
       "813  [{'alias': 'korean', 'title': 'Korean'}, {'ali...     2.0   \n",
       "814  [{'alias': 'chinese', 'title': 'Chinese'}, {'a...     3.5   \n",
       "815  [{'alias': 'burgers', 'title': 'Burgers'}, {'a...     3.0   \n",
       "816     [{'alias': 'coffee', 'title': 'Coffee & Tea'}]     3.5   \n",
       "\n",
       "                                           coordinates        transactions  \\\n",
       "812  {'latitude': 21.412164, 'longitude': -157.998401}          [delivery]   \n",
       "813  {'latitude': 21.385216977240265, 'longitude': ...  [delivery, pickup]   \n",
       "814  {'latitude': 21.4005263170856, 'longitude': -1...  [delivery, pickup]   \n",
       "815  {'latitude': 21.4526833, 'longitude': -158.006...          [delivery]   \n",
       "816  {'latitude': 21.42698103, 'longitude': -158.00...          [delivery]   \n",
       "\n",
       "    price                                           location         phone  \\\n",
       "812    $$  {'address1': '94-1040 Waipio Uka St', 'address...  +18086715322   \n",
       "813    $$  {'address1': '98-1005 Moanalua Rd', 'address2'...  +18084842988   \n",
       "814     $  {'address1': '94-799 Lumiaina Street', 'addres...  +18086768899   \n",
       "815    $$  {'address1': '95-1249 Meheula Pkwy', 'address2...  +18083123407   \n",
       "816    $$  {'address1': '94-1221 Ka Uka Blvd', 'address2'...  +18086809213   \n",
       "\n",
       "      display_phone      distance  \n",
       "812  (808) 671-5322  19344.664657  \n",
       "813  (808) 484-2988  12825.108034  \n",
       "814  (808) 676-8899  19559.059281  \n",
       "815  (808) 312-3407  22840.349833  \n",
       "816  (808) 680-9213  20598.005468  "
      ]
     },
     "metadata": {},
     "output_type": "display_data"
    }
   ],
   "source": [
    "# load final results\n",
    "final_df = pd.read_json(JSON_FILE)\n",
    "display(final_df.head(), final_df.tail())"
   ]
  },
  {
   "cell_type": "markdown",
   "id": "2d109ae4",
   "metadata": {},
   "source": [
    "## Check for duplicates"
   ]
  },
  {
   "cell_type": "code",
   "execution_count": 14,
   "id": "c317d74c",
   "metadata": {},
   "outputs": [
    {
     "data": {
      "text/plain": [
       "1"
      ]
     },
     "execution_count": 14,
     "metadata": {},
     "output_type": "execute_result"
    }
   ],
   "source": [
    "# check for duplicate ID's \n",
    "final_df.duplicated(subset='id').sum()"
   ]
  },
  {
   "cell_type": "code",
   "execution_count": 15,
   "id": "fd17269c",
   "metadata": {},
   "outputs": [
    {
     "data": {
      "text/plain": [
       "0"
      ]
     },
     "execution_count": 15,
     "metadata": {},
     "output_type": "execute_result"
    }
   ],
   "source": [
    "## Drop duplicate ids and confirm there are no more duplicates\n",
    "final_df = final_df.drop_duplicates(subset='id')\n",
    "final_df.duplicated(subset='id').sum()"
   ]
  },
  {
   "cell_type": "markdown",
   "id": "4c9d3bc3",
   "metadata": {},
   "source": [
    "## Save the final DataFrame to a .csv (or a .csv.gz if its too big for the GitHub file size limit)."
   ]
  },
  {
   "cell_type": "code",
   "execution_count": 16,
   "id": "cba35a9f",
   "metadata": {},
   "outputs": [],
   "source": [
    "# save the final results to a compressed csv\n",
    "final_df.to_csv('Data/final_results_Honolulu_sushi.csv.gz', compression='gzip',index=False)"
   ]
  },
  {
   "cell_type": "code",
   "execution_count": null,
   "id": "bffe049e",
   "metadata": {},
   "outputs": [],
   "source": []
  }
 ],
 "metadata": {
  "kernelspec": {
   "display_name": "Python (dojo-env)",
   "language": "python",
   "name": "dojo-env"
  },
  "language_info": {
   "codemirror_mode": {
    "name": "ipython",
    "version": 3
   },
   "file_extension": ".py",
   "mimetype": "text/x-python",
   "name": "python",
   "nbconvert_exporter": "python",
   "pygments_lexer": "ipython3",
   "version": "3.9.15"
  },
  "toc": {
   "base_numbering": 1,
   "nav_menu": {},
   "number_sections": false,
   "sideBar": true,
   "skip_h1_title": false,
   "title_cell": "Table of Contents",
   "title_sidebar": "Contents",
   "toc_cell": false,
   "toc_position": {},
   "toc_section_display": true,
   "toc_window_display": false
  }
 },
 "nbformat": 4,
 "nbformat_minor": 5
}
